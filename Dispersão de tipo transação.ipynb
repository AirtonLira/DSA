{
 "cells": [
  {
   "cell_type": "code",
   "execution_count": 2,
   "metadata": {},
   "outputs": [],
   "source": [
    "import pyodbc\n",
    "import numpy as np\n",
    "import pandas as pd\n",
    "import matplotlib.pyplot as plt"
   ]
  },
  {
   "cell_type": "code",
   "execution_count": 3,
   "metadata": {},
   "outputs": [],
   "source": [
    "conn_str = 'DRIVER={SQL Server};SERVER=AZ2D-MASKDB-220.DEVCDT.COM.BR;DATABASE=Fortbrasil;Integrated Security=true'\n",
    "conn = pyodbc.connect(conn_str)\n",
    "cursor = conn.cursor()"
   ]
  },
  {
   "cell_type": "code",
   "execution_count": 16,
   "metadata": {},
   "outputs": [
    {
     "data": {
      "text/plain": [
       "<pyodbc.Cursor at 0x23ff29de030>"
      ]
     },
     "execution_count": 16,
     "metadata": {},
     "output_type": "execute_result"
    }
   ],
   "source": [
    "codigo = \"\"\"\n",
    "SELECT a.name FROM SYS.DATABASES AS A\n",
    "WHERE\n",
    "A.NAME NOT IN ('master','tempdb','model','msdb','DBA')\n",
    "\"\"\"\n",
    "cursor.execute(codigo)"
   ]
  },
  {
   "cell_type": "code",
   "execution_count": 17,
   "metadata": {},
   "outputs": [],
   "source": [
    "emissores = []\n",
    "emissores.append(cursor.fetchall())"
   ]
  },
  {
   "cell_type": "code",
   "execution_count": 60,
   "metadata": {},
   "outputs": [],
   "source": [
    "codigo = \"\"\"\n",
    "\n",
    "SET NOCOUNT ON \n",
    "IF OBJECT_ID('tempdb..#TRANSACOESIOF') IS NOT NULL\n",
    "BEGIN\n",
    "    DROP TABLE #TRANSACOESIOF\n",
    "END\n",
    "SELECT TT.Nome,TR.Id_Conta,TR.DatavencimentoPadrao,TR.DataGeracao,SUM(TR.Valor) AS Valor\n",
    "INTO #TRANSACOESIOF\n",
    "FROM TransacoesCorrentes AS TR WITH(NOLOCK)\n",
    "INNER JOIN Tipostransacoes AS TT WITH(NOLOCK) ON (TT.Id_TipoTransacao = TR.Id_TipoTransacao)\n",
    "WHERE\n",
    "TR.Id_Tipotransacao = 117 AND\n",
    "TR.DataGeracao BETWEEN '2018-01-01' AND '2018-12-31'\n",
    "GROUP BY TT.Nome,TR.Id_Conta,TR.DatavencimentoPadrao,TR.DataGeracao\n",
    "\n",
    "CREATE CLUSTERED INDEX IDX_TMP_CONTAS ON #TRANSACOESIOF(Id_Conta)\n",
    "\n",
    "SELECT A.Nome,A.Id_Conta,AVG(A.Valor) AS Media FROM #TRANSACOESIOF AS A\n",
    "GROUP BY A.Nome,A.Id_Conta\n",
    "\n",
    "\"\"\"\n",
    "cursor.execute(codigo)\n",
    "dataset = []\n",
    "dataset.append(cursor.fetchall())"
   ]
  },
  {
   "cell_type": "code",
   "execution_count": 86,
   "metadata": {},
   "outputs": [],
   "source": [
    "%matplotlib inline\n",
    "transacoes = [x[0] for x in dataset[0]]\n",
    "contas = [x[1] for x in dataset[0]]\n",
    "valores = [x[2] for x in dataset[0]]\n",
    "df = pd.DataFrame({'Transacao':transacoes,\n",
    "                  'Id_Conta':contas,\n",
    "                  'Valores':valores})"
   ]
  },
  {
   "cell_type": "code",
   "execution_count": 1,
   "metadata": {},
   "outputs": [
    {
     "ename": "NameError",
     "evalue": "name 'df' is not defined",
     "output_type": "error",
     "traceback": [
      "\u001b[1;31m---------------------------------------------------------------------------\u001b[0m",
      "\u001b[1;31mNameError\u001b[0m                                 Traceback (most recent call last)",
      "\u001b[1;32m<ipython-input-1-00cf07b74dcd>\u001b[0m in \u001b[0;36m<module>\u001b[1;34m\u001b[0m\n\u001b[1;32m----> 1\u001b[1;33m \u001b[0mdf\u001b[0m\u001b[1;33m\u001b[0m\u001b[1;33m\u001b[0m\u001b[0m\n\u001b[0m",
      "\u001b[1;31mNameError\u001b[0m: name 'df' is not defined"
     ]
    }
   ],
   "source": [
    "df"
   ]
  },
  {
   "cell_type": "code",
   "execution_count": null,
   "metadata": {},
   "outputs": [],
   "source": []
  }
 ],
 "metadata": {
  "kernelspec": {
   "display_name": "Python 3",
   "language": "python",
   "name": "python3"
  },
  "language_info": {
   "codemirror_mode": {
    "name": "ipython",
    "version": 3
   },
   "file_extension": ".py",
   "mimetype": "text/x-python",
   "name": "python",
   "nbconvert_exporter": "python",
   "pygments_lexer": "ipython3",
   "version": "3.7.4"
  }
 },
 "nbformat": 4,
 "nbformat_minor": 2
}
